{
 "cells": [
  {
   "cell_type": "markdown",
   "id": "e0bbba98",
   "metadata": {},
   "source": [
    "# Search Algo 1: Order & Search\n",
    "\n",
    "*Authors: Apoorva Mahishwar (519795) & Mohamed Benchat (516589)*"
   ]
  },
  {
   "cell_type": "code",
   "execution_count": null,
   "id": "ad4e3047",
   "metadata": {},
   "outputs": [],
   "source": [
    "try:\n",
    "    import networkx as nx\n",
    "except ImportError:\n",
    "    !pip install networkx\n",
    "    import networkx as nx\n",
    "import matplotlib.pyplot as plt\n",
    "    \n",
    "from order_search import PermuteSearch"
   ]
  },
  {
   "cell_type": "code",
   "execution_count": null,
   "id": "5c0c428f",
   "metadata": {},
   "outputs": [],
   "source": [
    "# Test stuff\n",
    "\n",
    "print(\"#\"*15, \" Testing Structure Creation \", \"#\"*15)\n",
    "\n",
    "#create an empty NetworkX graph\n",
    "graph = nx.Graph()\n",
    "\n",
    "#populate graph with some nodes\n",
    "graph.add_nodes_from([1, 2, 3, 4, 5, 6])\n",
    "permutation = [6, 5, 1, 2, 3, 4]\n",
    "\n",
    "#create edges between nodes\n",
    "graph.add_edges_from([(1, 3), (1, 4), (1, 2),\n",
    "                     (2, 5), (2, 4),\n",
    "                     (3, 6), (3, 4),\n",
    "                     (4, 5), (4, 6),\n",
    "                     (5, 6), (5, 2)])\n",
    "\n",
    "nx.draw(graph, with_labels = True)\n",
    "plt.savefig(\"sample_graph.png\")\n",
    "\n",
    "print(PermuteSearch.CreateStructure(graph, permutation))\n",
    "\n",
    "print(\"#\"*15, \" Testing Route Creation \", \"#\"*15)\n",
    "print(PermuteSearch.CreateRoute(org=1, dest=6, graph=graph, permutation=permutation))"
   ]
  }
 ],
 "metadata": {
  "kernelspec": {
   "display_name": "Python 3 (ipykernel)",
   "language": "python",
   "name": "python3"
  },
  "language_info": {
   "codemirror_mode": {
    "name": "ipython",
    "version": 3
   },
   "file_extension": ".py",
   "mimetype": "text/x-python",
   "name": "python",
   "nbconvert_exporter": "python",
   "pygments_lexer": "ipython3",
   "version": "3.6.9"
  }
 },
 "nbformat": 4,
 "nbformat_minor": 5
}
