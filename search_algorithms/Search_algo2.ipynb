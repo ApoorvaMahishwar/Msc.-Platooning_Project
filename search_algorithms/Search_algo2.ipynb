{
 "cells": [
  {
   "cell_type": "markdown",
   "id": "e0bbba98",
   "metadata": {},
   "source": [
    "# Search Algo 2: Embed & Search\n",
    "\n",
    "*Authors: Apoorva Mahishwar (519795) & Mohamed Benchat (516589)*"
   ]
  },
  {
   "cell_type": "code",
   "execution_count": null,
   "id": "ad4e3047",
   "metadata": {},
   "outputs": [],
   "source": [
    "try:\n",
    "    import networkx as nx\n",
    "except ImportError:\n",
    "    !pip install networkx\n",
    "    import networkx as nx\n",
    "\n",
    "from embed_search import EmbedSearch\n",
    "import matplotlib.pyplot as plt"
   ]
  },
  {
   "cell_type": "code",
   "execution_count": null,
   "id": "5c0c428f",
   "metadata": {},
   "outputs": [],
   "source": [
    "# Test stuff\n",
    "\n",
    "#create an empty NetworkX graph\n",
    "graph = nx.Graph()\n",
    "\n",
    "#populate graph with some nodes\n",
    "graph.add_nodes_from([1, 2, 3, 4, 5, 6])\n",
    "permutation0 = [6, 5, 1, 2, 3, 4]\n",
    "permutation1 = [4, 1, 2, 5, 6, 3]\n",
    "permutation2 = [3, 5, 2, 4, 1, 6]\n",
    "\n",
    "#create edges between nodes\n",
    "graph.add_edges_from([(1, 3), (1, 4), (1, 2),\n",
    "                     (2, 5), (2, 4),\n",
    "                     (3, 6), (3, 4),\n",
    "                     (4, 5), (4, 6),\n",
    "                     (5, 6), (5, 2)])\n",
    "\n",
    "print(\"#\"*15, \"Testing EmbedWeights()\" ,\"#\"*15)\n",
    "print(EmbedSearch.EmbedWeights(1, graph, permutation0).nodes[2]['weight'])\n",
    "print(EmbedSearch.EmbedWeights(1, graph, permutation0).nodes[4]['weight'])\n",
    "\n",
    "print(\"#\"*15, \"Testing SearchWeightedGraph()\" ,\"#\"*15)\n",
    "route0 = EmbedSearch.SearchWeightedGraph(1, 6, graph, permutation0)\n",
    "\n",
    "labels = {n: f\"{n}:{graph.nodes[n]['weight']}\" for n in graph.nodes}\n",
    "colors = [graph.nodes[n]['weight'] for n in graph.nodes]\n",
    "nx.draw(graph, with_labels = True, labels=labels, node_color=colors, node_size=400)\n",
    "plt.savefig(\"sample_weighted_graph.png\")\n",
    "\n",
    "print(route0)\n",
    "route1 = EmbedSearch.SearchWeightedGraph(2, 3, graph, permutation1)\n",
    "print(route1)\n",
    "route2 = EmbedSearch.SearchWeightedGraph(1, 5, graph, permutation2)\n",
    "print(route2)"
   ]
  }
 ],
 "metadata": {
  "kernelspec": {
   "display_name": "Python 3 (ipykernel)",
   "language": "python",
   "name": "python3"
  },
  "language_info": {
   "codemirror_mode": {
    "name": "ipython",
    "version": 3
   },
   "file_extension": ".py",
   "mimetype": "text/x-python",
   "name": "python",
   "nbconvert_exporter": "python",
   "pygments_lexer": "ipython3",
   "version": "3.6.9"
  }
 },
 "nbformat": 4,
 "nbformat_minor": 5
}
