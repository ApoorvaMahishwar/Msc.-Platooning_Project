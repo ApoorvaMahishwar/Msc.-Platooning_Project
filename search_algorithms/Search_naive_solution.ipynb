{
 "cells": [
  {
   "cell_type": "code",
   "execution_count": null,
   "metadata": {},
   "outputs": [],
   "source": [
    "import networkx as nx\n",
    "import matplotlib.pyplot as plt\n",
    "\n",
    "from naive_solution import NaiveSolution"
   ]
  },
  {
   "cell_type": "code",
   "execution_count": null,
   "metadata": {},
   "outputs": [],
   "source": [
    "# this creates an un(bi)directed graph\n",
    "G = nx.Graph()\n",
    "\n",
    "#create edges between nodes\n",
    "G.add_edges_from([(1, 3), (1, 4), (1, 2),\n",
    "                     (2, 5), (2, 4),\n",
    "                     (3, 6), (3, 4),\n",
    "                     (4, 5), (4, 6),\n",
    "                     (5, 6), (5, 2)])\n",
    "\n",
    "pos = nx.spring_layout(G)\n",
    "\n",
    "nx.draw_networkx_nodes(G, pos, node_size =500)\n",
    "nx.draw_networkx_edges(G, pos, edgelist=G.edges(), edge_color = 'black')\n",
    "nx.draw_networkx_labels(G, pos)"
   ]
  },
  {
   "cell_type": "code",
   "execution_count": null,
   "metadata": {},
   "outputs": [],
   "source": [
    "# Test the method\n",
    "\n",
    "permutation_a = [6, 5, 1, 2, 3, 4]\n",
    "permutation_b = [4, 1, 2, 5, 6, 3]\n",
    "permutation_c = [3, 5, 2, 4, 1, 6]\n",
    "\n",
    "org_a, dest_a = [1, 6]\n",
    "org_b, dest_b = [2, 3]\n",
    "org_c, dest_c = [1, 5]\n",
    "\n",
    "\n",
    "print(\"#\"*15, \" Testing Route Creation \", \"#\"*15)\n",
    "print(\"Route: \", NaiveSolution.NaiveBuildRoute(org_c, dest_c, G, permutation_c))"
   ]
  }
 ],
 "metadata": {
  "kernelspec": {
   "display_name": "Python 3 (ipykernel)",
   "language": "python",
   "name": "python3"
  },
  "language_info": {
   "codemirror_mode": {
    "name": "ipython",
    "version": 3
   },
   "file_extension": ".py",
   "mimetype": "text/x-python",
   "name": "python",
   "nbconvert_exporter": "python",
   "pygments_lexer": "ipython3",
   "version": "3.6.9"
  }
 },
 "nbformat": 4,
 "nbformat_minor": 4
}
